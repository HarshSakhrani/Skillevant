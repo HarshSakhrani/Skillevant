{
  "nbformat": 4,
  "nbformat_minor": 0,
  "metadata": {
    "colab": {
      "name": "Phase1.1_ModelBuilding.ipynb",
      "provenance": [],
      "collapsed_sections": []
    },
    "kernelspec": {
      "name": "python3",
      "display_name": "Python 3"
    },
    "accelerator": "GPU"
  },
  "cells": [
    {
      "cell_type": "code",
      "metadata": {
        "id": "Rzw1wC-_XTRj",
        "colab": {
          "base_uri": "https://localhost:8080/"
        },
        "outputId": "4ca5f38d-84ab-4873-c9f0-0626577b864d"
      },
      "source": [
        "from google.colab import drive\n",
        "drive.mount('/content/drive')"
      ],
      "execution_count": null,
      "outputs": [
        {
          "output_type": "stream",
          "text": [
            "Mounted at /content/drive\n"
          ],
          "name": "stdout"
        }
      ]
    },
    {
      "cell_type": "code",
      "metadata": {
        "id": "5cuGVStqXYm6"
      },
      "source": [
        "#Installing the simpletransformers library\n",
        "!pip install simpletransformers"
      ],
      "execution_count": null,
      "outputs": []
    },
    {
      "cell_type": "code",
      "metadata": {
        "id": "EwnV-YUGXi2c"
      },
      "source": [
        "#Import essential libraries\n",
        "import pandas as pd\n",
        "from simpletransformers.classification import ClassificationModel\n",
        "from sklearn.model_selection import train_test_split\n",
        "from simpletransformers.classification import ClassificationModel, ClassificationArgs\n",
        "from sklearn.metrics import f1_score, accuracy_score"
      ],
      "execution_count": null,
      "outputs": []
    },
    {
      "cell_type": "code",
      "metadata": {
        "id": "ldW-_kZpXk2w"
      },
      "source": [
        "#Read the dataset, consisting of styling and labels (0: Chapter Heading, 1: Heading, 2: Sub-heading,\n",
        "#               3: Sub Sub Heading, 4: Code,  5: Header/Footer) into dataframe df\n",
        "df = pd.read_csv(\"/content/SE_HF&Code.csv\")\n",
        "df.drop(['Unnamed: 0'], axis = 1, inplace = True)\n",
        "df.head()"
      ],
      "execution_count": null,
      "outputs": []
    },
    {
      "cell_type": "code",
      "metadata": {
        "id": "gVJ1gHGWXnaJ"
      },
      "source": [
        "#Split dataframe into training set (90%) - X_train, y_train and testing data (10%) - X_test, y_test\n",
        "X_train, X_test, y_train, y_test = train_test_split(df['text'], df['labels'], test_size=0.1, random_state=100)"
      ],
      "execution_count": null,
      "outputs": []
    },
    {
      "cell_type": "code",
      "metadata": {
        "id": "Pqe_FBcvXpc-"
      },
      "source": [
        "#Convert data into dataframes\n",
        "train_df = pd.DataFrame(list(zip(X_train, y_train)), columns =['text', 'labels']) \n",
        "test_df = pd.DataFrame(list(zip(X_test, y_test)), columns =['text', 'labels']) "
      ],
      "execution_count": null,
      "outputs": []
    },
    {
      "cell_type": "code",
      "metadata": {
        "id": "_FJPS9SAXrO_"
      },
      "source": [
        "# Optional model configuration\n",
        "model_args = ClassificationArgs(num_train_epochs=3)\n",
        "\n",
        "# Create a ClassificationModel\n",
        "model = ClassificationModel(\n",
        "    'bert',\n",
        "    'bert-base-cased',\n",
        "    num_labels=6,\n",
        "    #use_cuda = False,\n",
        "    args=model_args\n",
        ") "
      ],
      "execution_count": null,
      "outputs": []
    },
    {
      "cell_type": "code",
      "metadata": {
        "id": "XCDX8a1fXwQU"
      },
      "source": [
        "#Train the model\n",
        "model.train_model(train_df)"
      ],
      "execution_count": null,
      "outputs": []
    },
    {
      "cell_type": "code",
      "metadata": {
        "id": "K0Zrt2UmZ9Br"
      },
      "source": [
        "#Define evaluation metrics - f1 score\n",
        "def f1_multiclass(labels, preds):\n",
        "    return f1_score(labels, preds, average='micro')\n",
        "    \n",
        "result, model_outputs, wrong_predictions = model.eval_model(test_df, f1=f1_multiclass, acc=accuracy_score)"
      ],
      "execution_count": null,
      "outputs": []
    },
    {
      "cell_type": "code",
      "metadata": {
        "id": "zQxlDxlfSfQt",
        "colab": {
          "base_uri": "https://localhost:8080/"
        },
        "outputId": "d170b899-fc7e-49a0-e178-85a564db62d8"
      },
      "source": [
        "result"
      ],
      "execution_count": null,
      "outputs": [
        {
          "output_type": "execute_result",
          "data": {
            "text/plain": [
              "{'acc': 0.9928977272727273,\n",
              " 'eval_loss': 0.025338198783091768,\n",
              " 'f1': 0.9928977272727273,\n",
              " 'mcc': 0.9906573951866513}"
            ]
          },
          "metadata": {
            "tags": []
          },
          "execution_count": 12
        }
      ]
    },
    {
      "cell_type": "code",
      "metadata": {
        "id": "zlvHSj53h22_"
      },
      "source": [
        "!cp -r /content/outputs/checkpoint-4752-epoch-3 \"/content/drive/My Drive/Skillevant\""
      ],
      "execution_count": null,
      "outputs": []
    },
    {
      "cell_type": "code",
      "metadata": {
        "id": "dhUldOVyUpc9"
      },
      "source": [
        ""
      ],
      "execution_count": null,
      "outputs": []
    }
  ]
}