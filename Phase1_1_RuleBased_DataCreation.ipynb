{
  "nbformat": 4,
  "nbformat_minor": 0,
  "metadata": {
    "colab": {
      "name": "Phase1.1_RuleBased_DataCreation.ipynb",
      "provenance": []
    },
    "kernelspec": {
      "name": "python3",
      "display_name": "Python 3"
    }
  },
  "cells": [
    {
      "cell_type": "code",
      "metadata": {
        "colab": {
          "base_uri": "https://localhost:8080/"
        },
        "id": "Ox7KjC71s_3P",
        "outputId": "6bcaa3a0-54c9-4903-ec56-47f7c14d9980"
      },
      "source": [
        "!pip install PyMuPDF"
      ],
      "execution_count": 1,
      "outputs": [
        {
          "output_type": "stream",
          "text": [
            "Collecting PyMuPDF\n",
            "\u001b[?25l  Downloading https://files.pythonhosted.org/packages/75/ba/e3452b39855aa59d06fc149e1f51a8b14108b682b9f58f6556647ef56b2d/PyMuPDF-1.18.4-cp36-cp36m-manylinux2010_x86_64.whl (6.3MB)\n",
            "\u001b[K     |████████████████████████████████| 6.3MB 5.0MB/s \n",
            "\u001b[?25hInstalling collected packages: PyMuPDF\n",
            "Successfully installed PyMuPDF-1.18.4\n"
          ],
          "name": "stdout"
        }
      ]
    },
    {
      "cell_type": "code",
      "metadata": {
        "id": "wW6o7ARvsrjw"
      },
      "source": [
        "import pandas as pd\n",
        "import numpy as np\n",
        "import pickle\n",
        "import fitz\n",
        "import re\n",
        "import statistics \n",
        "from statistics import mode"
      ],
      "execution_count": 3,
      "outputs": []
    },
    {
      "cell_type": "code",
      "metadata": {
        "id": "gNc5ZedFtjtY"
      },
      "source": [
        "def getFontBold(page, start, end):\n",
        "  fontSizes = []\n",
        "  for i in range(start, end):\n",
        "    index = page[i]\n",
        "\n",
        "    tempHTMLString = index.getText(\"html\")\n",
        "    imgOccuranceList = [i.start() for i in re.finditer('<img', tempHTMLString)]\n",
        "    for i in range(len(imgOccuranceList)):\n",
        "      tempHTMLString = tempHTMLString.replace(tempHTMLString[tempHTMLString.find('<img'): tempHTMLString.find('>',tempHTMLString.find('<img')) + 1], '<>')\n",
        "\n",
        "    for line in tempHTMLString.splitlines():\n",
        "      if (line.find('<b>') != -1):\n",
        "        individualFont = line[line.find('font-size:') + 10: line.find('pt',line.find('font-size:'))]\n",
        "        individualFont = float(individualFont)\n",
        "        fontSizes.append(individualFont)\n",
        "\n",
        "  fontSizes = list(set(fontSizes))\n",
        "  fontSizes.sort()\n",
        "  return fontSizes"
      ],
      "execution_count": 15,
      "outputs": []
    },
    {
      "cell_type": "code",
      "metadata": {
        "id": "YBW8P5TBxxUK"
      },
      "source": [
        "def getFont(page, start, end):\n",
        "  fontSizes = []\n",
        "  for i in range(start, end):\n",
        "    index = page[i]\n",
        "\n",
        "    tempHTMLString = index.getText(\"html\")\n",
        "    imgOccuranceList = [i.start() for i in re.finditer('<img', tempHTMLString)]\n",
        "    for i in range(len(imgOccuranceList)):\n",
        "      tempHTMLString = tempHTMLString.replace(tempHTMLString[tempHTMLString.find('<img'): tempHTMLString.find('>',tempHTMLString.find('<img')) + 1], '<>')\n",
        "    \n",
        "    for line in tempHTMLString.splitlines():\n",
        "      if (line.find('div') == -1 and line.find('<>') == -1):\n",
        "        individualFont = line[line.find('font-size:') + 10: line.find('pt',line.find('font-size:'))]\n",
        "        individualFont = float(individualFont)\n",
        "        fontSizes.append(individualFont)\n",
        "\n",
        "  mostFrequentFont = mode(fontSizes)\n",
        "  fontSizes = list(set(fontSizes))\n",
        "  fontSizes.sort()\n",
        "  fontSizes = [i for i in fontSizes if i >= mostFrequentFont]\n",
        "  return fontSizes"
      ],
      "execution_count": 18,
      "outputs": []
    },
    {
      "cell_type": "code",
      "metadata": {
        "id": "Cl85rskRzBvu"
      },
      "source": [
        "def getLabels(page, start, end):\n",
        "  lt=getFont(page,start,end)\n",
        "  finalList = []  \n",
        "  for i in range(start, end):\n",
        "    individualFont = 0\n",
        "    index = page[i]\n",
        "    tempHTMLString = index.getText(\"html\")\n",
        "    imgOccuranceList = [i.start() for i in re.finditer('<img', tempHTMLString)]\n",
        "    for i in range(len(imgOccuranceList)):\n",
        "      tempHTMLString = tempHTMLString.replace(tempHTMLString[tempHTMLString.find('<img'): tempHTMLString.find('>',tempHTMLString.find('<img')) + 1], '<>')\n",
        "    for line in tempHTMLString.splitlines():\n",
        "      try:\n",
        "        if line.find('div') != -1:  #Ignore the div tag\n",
        "          continue\n",
        "        \n",
        "        if (line.find('div') == -1 and line.find('<>') == -1):\n",
        "          individualText = line[line.find('>',line.find(\"<span \")) + 1: line.find('</span>')]\n",
        "          individualFont = line[line.find('font-size:') + 10: line.find('pt',line.find('font-size:'))]\n",
        "          styling = re.sub(line[line.find('>',line.find(\"<span \")) + 1: line.find('</span>')],'',line)\n",
        "          #print(f)\n",
        "          individualFont = float(individualFont)\n",
        "          if ( individualFont == lt[len(lt) - 1]):\n",
        "            print('Main Heading: ' + individualText)\n",
        "            individualFont = 1\n",
        "            finalList.append([individualText,styling,individualFont])\n",
        "          else:\n",
        "            if ( individualFont == lt[len(lt) - 2]):\n",
        "              print('Heading: ' + individualText)\n",
        "              individualFont = 2\n",
        "              finalList.append([individualText,styling,individualFont])\n",
        "            else:\n",
        "              if ( individualFont == lt[len(lt) - 3]):\n",
        "                if (line.find('<b>') != -1):\n",
        "                  print('Sub Heading: ' + individualText)\n",
        "                  individualFont = 3\n",
        "                  finalList.append([individualText,styling,individualFont])\n",
        "              else:\n",
        "                if ( individualFont == lt[len(lt) - 4]):\n",
        "                  print('Sub Sub Heading: ' + individualText)\n",
        "                  individualFont = 4\n",
        "                  finalList.append([individualText,styling,individualFont])\n",
        "                else:\n",
        "                  if ( styling[styling.find('font-family:') + 12: styling.find(';',styling.find('font-family:'))] == \"UbuntuMono,monospace\"):\n",
        "                    print('Code ' + individualText)\n",
        "                    individualFont = 5\n",
        "                    finalList.append([individualText,styling,individualFont])\n",
        "      except:\n",
        "        continue    \n",
        "  return finalList"
      ],
      "execution_count": 21,
      "outputs": []
    }
  ]
}