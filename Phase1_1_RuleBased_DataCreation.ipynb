{
  "nbformat": 4,
  "nbformat_minor": 0,
  "metadata": {
    "colab": {
      "name": "Phase1.1_RuleBased_DataCreation.ipynb",
      "provenance": [],
      "collapsed_sections": []
    },
    "kernelspec": {
      "name": "python3",
      "display_name": "Python 3"
    }
  },
  "cells": [
    {
      "cell_type": "code",
      "metadata": {
        "colab": {
          "base_uri": "https://localhost:8080/"
        },
        "id": "Ox7KjC71s_3P",
        "outputId": "6bcaa3a0-54c9-4903-ec56-47f7c14d9980"
      },
      "source": [
        "#Installing Library- PyMuPDF: used to convert pdf to html\n",
        "!pip install PyMuPDF"
      ],
      "execution_count": null,
      "outputs": [
        {
          "output_type": "stream",
          "text": [
            "Collecting PyMuPDF\n",
            "\u001b[?25l  Downloading https://files.pythonhosted.org/packages/75/ba/e3452b39855aa59d06fc149e1f51a8b14108b682b9f58f6556647ef56b2d/PyMuPDF-1.18.4-cp36-cp36m-manylinux2010_x86_64.whl (6.3MB)\n",
            "\u001b[K     |████████████████████████████████| 6.3MB 5.0MB/s \n",
            "\u001b[?25hInstalling collected packages: PyMuPDF\n",
            "Successfully installed PyMuPDF-1.18.4\n"
          ],
          "name": "stdout"
        }
      ]
    },
    {
      "cell_type": "code",
      "metadata": {
        "id": "wW6o7ARvsrjw"
      },
      "source": [
        "#Import Libraries\n",
        "import pandas as pd\n",
        "import numpy as np\n",
        "import pickle\n",
        "import fitz\n",
        "import re\n",
        "import statistics \n",
        "from statistics import mode"
      ],
      "execution_count": null,
      "outputs": []
    },
    {
      "cell_type": "code",
      "metadata": {
        "id": "gNc5ZedFtjtY"
      },
      "source": [
        "#This function is used when main headings, headings and subheadings can be distinctly classified with the bold tag\n",
        "def getFontBold(page, start, end):\n",
        "  fontSizes = []\n",
        "  for i in range(start, end):\n",
        "    index = page[i]\n",
        "\n",
        "    #getText(\"html\"): used to extract the html of that particular page\n",
        "    tempHTMLString = index.getText(\"html\")\n",
        "\n",
        "    #Used to find the location of img tags: for 5 occurences, imgOccuraanceList holds five positions\n",
        "    imgOccuranceList = [i.start() for i in re.finditer('<img', tempHTMLString)]\n",
        "    for i in range(len(imgOccuranceList)): #Replace all img tags with '<>' \n",
        "      tempHTMLString = tempHTMLString.replace(tempHTMLString[tempHTMLString.find('<img'): tempHTMLString.find('>',tempHTMLString.find('<img')) + 1], '<>')\n",
        "\n",
        "    #Extract font-size for each line\n",
        "    for line in tempHTMLString.splitlines():\n",
        "      if (line.find('<b>') != -1): #To operate on the line, only if the bold tag exists \n",
        "        individualFont = line[line.find('font-size:') + 10: line.find('pt',line.find('font-size:'))] #To extract the digits placed such as: 'font-size: 10pt'\n",
        "        individualFont = float(individualFont) #Convert the str to float\n",
        "        fontSizes.append(individualFont) #Append to list\n",
        "\n",
        "  fontSizes = list(set(fontSizes))#Getting rid of multiple occurences\n",
        "  fontSizes.sort() #Sorting the list\n",
        "  return fontSizes"
      ],
      "execution_count": null,
      "outputs": []
    },
    {
      "cell_type": "code",
      "metadata": {
        "id": "YBW8P5TBxxUK"
      },
      "source": [
        "#This function is used when main headings, headings and subheadings cannot be distinctly classified with the bold tag\n",
        "def getFont(page, start, end):\n",
        "  fontSizes = []\n",
        "  for i in range(start, end):\n",
        "    index = page[i]\n",
        "\n",
        "    #getText(\"html\"): used to extract the html of that particular page\n",
        "    tempHTMLString = index.getText(\"html\")\n",
        "\n",
        "    #Used to find the location of img tags: for 5 occurences, imgOccuraanceList holds five positions\n",
        "    imgOccuranceList = [i.start() for i in re.finditer('<img', tempHTMLString)]\n",
        "    for i in range(len(imgOccuranceList)): #Replace all img tags with '<>' \n",
        "      tempHTMLString = tempHTMLString.replace(tempHTMLString[tempHTMLString.find('<img'): tempHTMLString.find('>',tempHTMLString.find('<img')) + 1], '<>')\n",
        "\n",
        "    #Extract font-size for each line  \n",
        "    for line in tempHTMLString.splitlines():\n",
        "      if (line.find('div') == -1 and line.find('<>') == -1): #To operate on the line, only if div tag and '<>' doesnt exist\n",
        "        individualFont = line[line.find('font-size:') + 10: line.find('pt',line.find('font-size:'))] #To extract the digits placed such as: 'font-size: 10pt'\n",
        "        individualFont = float(individualFont) #Convert the str to float\n",
        "        fontSizes.append(individualFont) #Append to list\n",
        "\n",
        "  mostFrequentFont = mode(fontSizes) #Since all the lines are taken into consideration, most frequently occuring font-size is the size of the common text.\n",
        "  fontSizes = list(set(fontSizes)) #Getting rid of multiple occurences\n",
        "  fontSizes.sort() #Sorting the list\n",
        "  fontSizes = [i for i in fontSizes if i >= mostFrequentFont] #To save only those fonts that are greater than or equal to the most frequent font, since main headings, headings and subheadings must always have font-size greater than text font size.\n",
        "  return fontSizes"
      ],
      "execution_count": null,
      "outputs": []
    },
    {
      "cell_type": "code",
      "metadata": {
        "id": "Cl85rskRzBvu"
      },
      "source": [
        "#To determine the main headings, headings and subheadings according to the font sizes returned from the above two functions.\n",
        "def getLabels(page, start, end):\n",
        "\n",
        "  #Use either getFont or getFontBold according to PDF\n",
        "  lt=getFont(page,start,end)\n",
        "\n",
        "  finalList = []  \n",
        "  for i in range(start, end):\n",
        "    individualFont = 0\n",
        "    index = page[i]\n",
        "\n",
        "    #getText(\"html\"): used to extract the html of that particular page\n",
        "    tempHTMLString = index.getText(\"html\")\n",
        "\n",
        "    #Used to find the location of img tags: for 5 occurences, imgOccuraanceList holds five positions\n",
        "    imgOccuranceList = [i.start() for i in re.finditer('<img', tempHTMLString)]\n",
        "    for i in range(len(imgOccuranceList)): #Replace all img tags with '<>' \n",
        "      tempHTMLString = tempHTMLString.replace(tempHTMLString[tempHTMLString.find('<img'): tempHTMLString.find('>',tempHTMLString.find('<img')) + 1], '<>')\n",
        "\n",
        "\n",
        "    for line in tempHTMLString.splitlines():\n",
        "      try:\n",
        "        if line.find('div') != -1:  #Ignore the div tag\n",
        "          continue\n",
        "        \n",
        "        if (line.find('div') == -1 and line.find('<>') == -1): #To operate on the line, only if div tag and '<>' doesnt exist\n",
        "          individualText = line[line.find('>',line.find(\"<span \")) + 1: line.find('</span>')] #To extract text placed in between span tags\n",
        "          individualFont = line[line.find('font-size:') + 10: line.find('pt',line.find('font-size:'))] #To extract the digits placed such as: 'font-size: 10pt'\n",
        "          styling = re.sub(line[line.find('>',line.find(\"<span \")) + 1: line.find('</span>')],'',line) #To extract the HTML styling\n",
        "\n",
        "          individualFont = float(individualFont) #Convert the str to float\n",
        "\n",
        "          #The following if conditions have been made after manually looking at a particular pdf and matching the font sizes to those of the main headings, headings and subheadings\n",
        "          if ( individualFont == lt[len(lt) - 1]): #Font size extracted matches the largest font size: Main Heading\n",
        "            print('Main Heading: ' + individualText)\n",
        "            individualFont = 1 #Label: 1\n",
        "            finalList.append([individualText,styling,individualFont]) #Text, HTML styling, Label\n",
        "          else:\n",
        "            if ( individualFont == lt[len(lt) - 2]): #Font size extracted matches the second-largest font size: Heading\n",
        "              print('Heading: ' + individualText)\n",
        "              individualFont = 2 #Label: 2\n",
        "              finalList.append([individualText,styling,individualFont]) #Text, HTML styling, Label\n",
        "            else:\n",
        "              if ( individualFont == lt[len(lt) - 3]): #Font size extracted matches the third-largest font size: Sub Heading\n",
        "                if (line.find('<b>') != -1):\n",
        "                  print('Sub Heading: ' + individualText)\n",
        "                  individualFont = 3 #Label: 3\n",
        "                  finalList.append([individualText,styling,individualFont]) #Text, HTML styling, Label\n",
        "              else:\n",
        "                if ( individualFont == lt[len(lt) - 4]): #Font size extracted matches the fourth-largest font size: Sub Sub Heading\n",
        "                  print('Sub Sub Heading: ' + individualText)\n",
        "                  individualFont = 4 #Label: 4\n",
        "                  finalList.append([individualText,styling,individualFont]) #Text, HTML styling, Label\n",
        "                else:\n",
        "                  if ( styling[styling.find('font-family:') + 12: styling.find(';',styling.find('font-family:'))] == \"UbuntuMono,monospace\"): #Font size extracted matches 'UbuntuMono,monospace': Code\n",
        "                    print('Code ' + individualText)\n",
        "                    individualFont = 6 #Label: 6\n",
        "                    finalList.append([individualText,styling,individualFont]) #Text, HTML styling, Label\n",
        "      except:\n",
        "        continue    \n",
        "  return finalList"
      ],
      "execution_count": null,
      "outputs": []
    }
  ]
}